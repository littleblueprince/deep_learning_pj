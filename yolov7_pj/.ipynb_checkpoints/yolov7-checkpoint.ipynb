{
 "cells": [
  {
   "cell_type": "markdown",
   "id": "c2a6d105",
   "metadata": {},
   "source": [
    "通过openvino转移yolov7模型，通过迁移学习训练yolov7模型学习识别新实体"
   ]
  },
  {
   "cell_type": "markdown",
   "id": "bdfb9333",
   "metadata": {
    "ExecuteTime": {
     "end_time": "2023-12-13T01:56:08.681696Z",
     "start_time": "2023-12-13T01:56:08.676235Z"
    }
   },
   "source": [
    "从yolov7官网https://github.com/WongKinYiu/yolov7下载yolov7模型"
   ]
  },
  {
   "cell_type": "code",
   "execution_count": 2,
   "id": "15fd1cfd",
   "metadata": {
    "ExecuteTime": {
     "end_time": "2023-12-13T01:57:45.060122Z",
     "start_time": "2023-12-13T01:57:45.055349Z"
    }
   },
   "outputs": [
    {
     "name": "stdout",
     "output_type": "stream",
     "text": [
      "C:\\Users\\30713\\anaconda3\\envs\\openvino_env\n"
     ]
    }
   ],
   "source": [
    "#查看虚拟环境\n",
    "import os,sys\n",
    "print(os.path.dirname(sys.executable))"
   ]
  },
  {
   "cell_type": "code",
   "execution_count": null,
   "id": "f5cb5f0f",
   "metadata": {},
   "outputs": [],
   "source": []
  }
 ],
 "metadata": {
  "kernelspec": {
   "display_name": "Python [conda env:openvino_env]",
   "language": "python",
   "name": "conda-env-openvino_env-py"
  },
  "language_info": {
   "codemirror_mode": {
    "name": "ipython",
    "version": 3
   },
   "file_extension": ".py",
   "mimetype": "text/x-python",
   "name": "python",
   "nbconvert_exporter": "python",
   "pygments_lexer": "ipython3",
   "version": "3.8.18"
  },
  "nbTranslate": {
   "displayLangs": [
    "*"
   ],
   "hotkey": "alt-t",
   "langInMainMenu": true,
   "sourceLang": "en",
   "targetLang": "fr",
   "useGoogleTranslate": true
  },
  "toc": {
   "base_numbering": 1,
   "nav_menu": {},
   "number_sections": true,
   "sideBar": true,
   "skip_h1_title": false,
   "title_cell": "Table of Contents",
   "title_sidebar": "Contents",
   "toc_cell": false,
   "toc_position": {},
   "toc_section_display": true,
   "toc_window_display": false
  }
 },
 "nbformat": 4,
 "nbformat_minor": 5
}
